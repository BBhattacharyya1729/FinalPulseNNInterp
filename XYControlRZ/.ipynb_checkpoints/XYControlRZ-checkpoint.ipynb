{
 "cells": [
  {
   "cell_type": "code",
   "execution_count": null,
   "id": "ac59c323-2c44-4b57-9e6a-ecc4203e0621",
   "metadata": {},
   "outputs": [],
   "source": [
    "### This file does a RZ gate (1 parameter, 1 qubit) with X,Y control\n",
    "using QuantumCollocation\n",
    "using NamedTrajectories\n",
    "using TrajectoryIndexingUtils"
   ]
  },
  {
   "cell_type": "code",
   "execution_count": null,
   "id": "a09f23a0-2651-415f-a9d2-b769fa1abe18",
   "metadata": {},
   "outputs": [],
   "source": [
    "const Units = 1e9\n",
    "const MHz = 1e6 / Units\n",
    "const GHz = 1e9 / Units\n",
    "const ns = 1e-9 * Units\n",
    "const μs = 1e-6 * Units\n",
    ";"
   ]
  },
  {
   "cell_type": "code",
   "execution_count": null,
   "id": "b0048e3b-b0e3-468e-ace3-4d1c6b1eb481",
   "metadata": {},
   "outputs": [],
   "source": [
    "# Operators\n",
    "const Paulis = Dict(\n",
    "    \"I\" => Matrix{ComplexF64}([1 0; 0 1]),\n",
    "    \"X\" => Matrix{ComplexF64}([0 1; 1 0]),\n",
    "    \"Y\" => Matrix{ComplexF64}([0 im; -im 0]),\n",
    "    \"Z\" => Matrix{ComplexF64}([1 0; 0 -1]),\n",
    ")\n",
    "const a = [0 1; 0 0]\n",
    "const ad = transpose(a);\n",
    "excitation(theta) = exp(-im/2 * theta * Paulis[\"Z\"]);\n",
    "\n",
    "\n",
    "H_drives = [\n",
    "     Paulis[\"X\"],\n",
    "     Paulis[\"Y\"]\n",
    "]\n",
    "system = QuantumSystem(H_drives);\n",
    "t_f = 10* ns\n",
    "n_steps = 51\n",
    "times = range(0, t_f, n_steps)  # Alternative: collect(0:Δt:t_f)\n",
    "n_controls=2\n",
    "n_qubits=1;\n",
    "Δt = times[2] - times[1]"
   ]
  },
  {
   "cell_type": "code",
   "execution_count": null,
   "id": "fe19a769-311c-4ec4-93f8-08c25e66543c",
   "metadata": {},
   "outputs": [],
   "source": [
    "### Generate Initial Trajectories \n",
    "PICO_max_iter = 100\n",
    "\n",
    "# Shape the cost function with weights on states and controls\n",
    "Q = 10000.\n",
    "R =1e-2\n",
    "R_b=200.0\n",
    "# Add control bounds\n",
    "a_bound = 1.0\n",
    "dda_bound = 1.0\n",
    "\n",
    "ops = Options()\n",
    "ops.print_info_string = \"yes\"\n",
    "ops.recalc_y = \"yes\"\n",
    "ops.recalc_y_feas_tol = 1.0 ##down\n",
    "ops.print_level = 0 \n",
    "p=UnitarySmoothPulseProblem(\n",
    "                system,\n",
    "                excitation(pi),\n",
    "                n_steps,\n",
    "                Δt;\n",
    "                a_bound=a_bound,\n",
    "                dda_bound=dda_bound,\n",
    "                Q=1000.0,\n",
    "                R=1e-2,\n",
    "                verbose=true,\n",
    "                hessian_approximation=true,\n",
    "                pade_order=10,\n",
    "                free_time=true,\n",
    "                timesteps_all_equal=true,\n",
    "                max_iter=PICO_max_iter,\n",
    "                ipopt_options=ops,\n",
    "                )\n",
    "min_time_problem  = UnitaryMinimumTimeProblem(p; final_fidelity=1-1e-5,max_iter=500)\n",
    "solve!(min_time_problem)"
   ]
  },
  {
   "cell_type": "code",
   "execution_count": null,
   "id": "924b5479-7ab1-4dec-830f-b38690c5c086",
   "metadata": {},
   "outputs": [],
   "source": [
    "Δt = ceil(1.2 * min_time_problem.trajectory[:Δt][1]*100)/100"
   ]
  },
  {
   "cell_type": "code",
   "execution_count": null,
   "id": "4ebac5b8-bdeb-4794-b2fc-77b184c075b4",
   "metadata": {},
   "outputs": [],
   "source": [
    "N = 11\n",
    "trajectory_list,glued_trajectory_list = Interpolator1D(\n",
    "    excitation,\n",
    "    system,\n",
    "    n_steps,\n",
    "    N,\n",
    "    Δt;\n",
    "    Q=Q,\n",
    "    R=R,\n",
    "    R_b=R_b,\n",
    "    a_bound=a_bound,\n",
    "    dda_bound=dda_bound,\n",
    "    ipopt_options=ops,\n",
    "    max_iter=PICO_max_iter,\n",
    "    fidelity_constraint = 1e-5\n",
    ");"
   ]
  },
  {
   "cell_type": "code",
   "execution_count": null,
   "id": "5c63bf15-3e81-4026-bad3-f06af582e881",
   "metadata": {},
   "outputs": [],
   "source": [
    "DATA = sample1D(trajectory_list,Δt,n_qubits,system,2500,N,excitation)\n",
    "findmax(DATA)"
   ]
  },
  {
   "cell_type": "code",
   "execution_count": null,
   "id": "a0a4767b-ba3e-402f-8eb6-562f12732f9e",
   "metadata": {},
   "outputs": [],
   "source": [
    "using CairoMakie\n",
    "using Colors\n",
    "using Printf\n",
    "f = Figure()\n",
    "ax = Axis(f[1, 1],\n",
    "    title = \"Infidelity Log Plot\",\n",
    "    xlabel = \"θ\",\n",
    "    ylabel = \"Infidelity\"\n",
    ")\n",
    "lines!(ax, range(0,2*pi,convert(Int64,2500)), log10.(convert(Array{Float64,1},DATA)), label  = \"Linear\",color = :blue)\n",
    "\n",
    "\n",
    "f[1, 2] = Legend(f, ax, \"Infidelity Data\", framevisible = false)\n",
    "f\n",
    "     "
   ]
  },
  {
   "cell_type": "code",
   "execution_count": null,
   "id": "d2e760e1-b11f-4d55-97be-115e2e45daf3",
   "metadata": {},
   "outputs": [],
   "source": [
    "DATA = simple_sample1D(glued_trajectory_list,Δt,n_qubits,system,2500,N,excitation)\n",
    "findmax(DATA)"
   ]
  },
  {
   "cell_type": "code",
   "execution_count": null,
   "id": "408f34c3-a29a-4434-b33d-160ec452116d",
   "metadata": {},
   "outputs": [],
   "source": [
    "using CairoMakie\n",
    "using Colors\n",
    "using Printf\n",
    "f = Figure()\n",
    "ax = Axis(f[1, 1],\n",
    "    title = \"Infidelity Log Plot\",\n",
    "    xlabel = \"θ\",\n",
    "    ylabel = \"Infidelity\"\n",
    ")\n",
    "lines!(ax, range(0,2*pi,convert(Int64,2500)), log10.(convert(Array{Float64,1},DATA)), label  = \"Linear\",color = :blue)\n",
    "\n",
    "f[1, 2] = Legend(f, ax, \"Infidelity Data\", framevisible = false)\n",
    "f\n",
    "     "
   ]
  },
  {
   "cell_type": "code",
   "execution_count": null,
   "id": "f5ba61d7-3ca5-4f80-a02e-1dcd699d4c2a",
   "metadata": {},
   "outputs": [],
   "source": [
    "data,d_data,dd_data = parse1D(trajectory_list,n_controls,N);"
   ]
  },
  {
   "cell_type": "code",
   "execution_count": null,
   "id": "b4601b25-43f8-482c-8fd3-9bb977af7579",
   "metadata": {},
   "outputs": [],
   "source": [
    "verify1D(dd_data,n_qubits,system,Δt,n_steps,N,excitation)"
   ]
  },
  {
   "cell_type": "code",
   "execution_count": null,
   "id": "4f153ebf-d9ae-4d0a-bea0-153b2fda155a",
   "metadata": {},
   "outputs": [],
   "source": [
    "verify1D([t[:dda] for t in glued_trajectory_list],n_qubits,system,Δt,n_steps,N,excitation)"
   ]
  },
  {
   "cell_type": "code",
   "execution_count": null,
   "id": "c6c812b5-e07e-493d-9c7f-777976d654de",
   "metadata": {},
   "outputs": [],
   "source": [
    "export_csv1D([t[:dda] for t in glued_trajectory_list],n_controls,N,\"XYControlRZ_accels.csv\")"
   ]
  }
 ],
 "metadata": {
  "kernelspec": {
   "display_name": "Julia 1.9.4",
   "language": "julia",
   "name": "julia-1.9"
  },
  "language_info": {
   "file_extension": ".jl",
   "mimetype": "application/julia",
   "name": "julia",
   "version": "1.9.4"
  }
 },
 "nbformat": 4,
 "nbformat_minor": 5
}
