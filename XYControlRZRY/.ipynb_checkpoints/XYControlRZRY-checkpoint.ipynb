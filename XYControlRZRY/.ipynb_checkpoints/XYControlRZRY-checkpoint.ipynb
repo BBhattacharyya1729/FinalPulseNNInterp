{
 "cells": [
  {
   "cell_type": "code",
   "execution_count": null,
   "id": "941dc2eb-9492-480c-a29f-972e62fec724",
   "metadata": {},
   "outputs": [],
   "source": [
    "### This file does a RZ gate (1 parameter, 1 qubit) with X,Y control\n",
    "using QuantumCollocation\n",
    "using NamedTrajectories\n",
    "using TrajectoryIndexingUtils"
   ]
  },
  {
   "cell_type": "code",
   "execution_count": null,
   "id": "d812a438-0072-4e41-b9b8-b03df8ab0416",
   "metadata": {},
   "outputs": [],
   "source": [
    "const Units = 1e9\n",
    "const MHz = 1e6 / Units\n",
    "const GHz = 1e9 / Units\n",
    "const ns = 1e-9 * Units\n",
    "const μs = 1e-6 * Units\n",
    ";"
   ]
  },
  {
   "cell_type": "code",
   "execution_count": null,
   "id": "6c9740c4-17d8-477e-ae51-ae5ce60b2359",
   "metadata": {},
   "outputs": [],
   "source": [
    "# Operators\n",
    "const Paulis = Dict(\n",
    "    \"I\" => Matrix{ComplexF64}([1 0; 0 1]),\n",
    "    \"X\" => Matrix{ComplexF64}([0 1; 1 0]),\n",
    "    \"Y\" => Matrix{ComplexF64}([0 im; -im 0]),\n",
    "    \"Z\" => Matrix{ComplexF64}([1 0; 0 -1]),\n",
    ")\n",
    "const a = [0 1; 0 0]\n",
    "const ad = transpose(a)\n",
    "excitation(theta,phi) = exp(-im/2 * theta * Paulis[\"Z\"]) * exp(-im/2 * theta * Paulis[\"Y\"]);  \n",
    "\n",
    "\n",
    "H_drives = [\n",
    "     Paulis[\"X\"],\n",
    "     Paulis[\"Y\"]\n",
    "]\n",
    "system = QuantumSystem(H_drives);\n",
    "t_f = 10 * ns\n",
    "n_steps = 51\n",
    "times = range(0, t_f, n_steps)  # Alternative: collect(0:Δt:t_f)\n",
    "Δt = times[2] - times[1]\n",
    "n_controls=2\n",
    "n_qubits=1;"
   ]
  },
  {
   "cell_type": "code",
   "execution_count": null,
   "id": "d92a21f8-d239-4cbc-a37b-d7487082c1e7",
   "metadata": {},
   "outputs": [],
   "source": [
    "### Generate Initial Trajectories \n",
    "PICO_max_iter = 100\n",
    "\n",
    "# Shape the cost function with weights on states and controls\n",
    "Q = 1000.\n",
    "R =1e-2\n",
    "R_b=200.0\n",
    "# Add control bounds\n",
    "a_bound = 1.0\n",
    "dda_bound = 1.0\n",
    "\n",
    "ops = Options()\n",
    "ops.print_info_string = \"yes\"\n",
    "ops.recalc_y = \"yes\"\n",
    "ops.recalc_y_feas_tol = 1.0 ##down\n",
    "ops.print_level = 0\n",
    "p=UnitarySmoothPulseProblem(\n",
    "                system,\n",
    "                excitation(pi,pi),\n",
    "                n_steps,\n",
    "                Δt;\n",
    "                a_bound=a_bound,\n",
    "                dda_bound=dda_bound,\n",
    "                Q=Q,\n",
    "                R=R,\n",
    "                verbose=true,\n",
    "                hessian_approximation=true,\n",
    "                pade_order=10,\n",
    "                free_time=true,\n",
    "                timesteps_all_equal=true,\n",
    "                max_iter=PICO_max_iter,\n",
    "                ipopt_options=ops,\n",
    "                )\n",
    "min_time_problem  = UnitaryMinimumTimeProblem(p; final_fidelity=1-1e-5,max_iter=500);\n",
    "solve!(min_time_problem)"
   ]
  },
  {
   "cell_type": "code",
   "execution_count": null,
   "id": "f79e24a3-500a-41d1-a77b-e728b5a24107",
   "metadata": {},
   "outputs": [],
   "source": [
    "Δt = ceil(1.2 * min_time_problem.trajectory[:Δt][1]*100)/100"
   ]
  },
  {
   "cell_type": "code",
   "execution_count": null,
   "id": "b468ecfd-c36f-491f-a8ce-a7556f8d0664",
   "metadata": {},
   "outputs": [],
   "source": [
    "N = 11\n",
    "trajectory_list,glued_trajectory_list = Interpolator2D(\n",
    "    excitation,\n",
    "    system,\n",
    "    n_steps,\n",
    "    N,\n",
    "    Δt;\n",
    "    Q=Q,\n",
    "    R=R,\n",
    "    R_b=R_b,\n",
    "    a_bound=a_bound,\n",
    "    dda_bound=dda_bound,\n",
    "    ipopt_options=ops,\n",
    "    max_iter=PICO_max_iter,\n",
    "    fidelity_constraint = 1e-5\n",
    ");"
   ]
  },
  {
   "cell_type": "code",
   "execution_count": null,
   "id": "6c51aa5f-8c2d-4bf1-9dde-af5c496ca8ee",
   "metadata": {},
   "outputs": [],
   "source": [
    "DATA = sample2D(trajectory_list,Δt,n_qubits,system,50,N,excitation)\n",
    "findmax(DATA)"
   ]
  },
  {
   "cell_type": "code",
   "execution_count": null,
   "id": "16c800b8-e3e8-4e83-ac1a-7f30f670fbe1",
   "metadata": {},
   "outputs": [],
   "source": [
    "using Plots\n",
    "gr()\n",
    "Plots.heatmap(range(0,2*pi,50),\n",
    "    range(0,2*pi,50), log10.(DATA),\n",
    "    xlabel=\"θ values\", ylabel=\"ϕ values\",\n",
    "    title=\"Log Infidelity\")"
   ]
  },
  {
   "cell_type": "code",
   "execution_count": null,
   "id": "dc896058-b6b8-4be2-918d-b80dbf27c3d6",
   "metadata": {},
   "outputs": [],
   "source": [
    "DATA = simple_sample2D(glued_trajectory_list,Δt,n_qubits,system,50,N,excitation)\n",
    "findmax(DATA)"
   ]
  },
  {
   "cell_type": "code",
   "execution_count": null,
   "id": "ae097754-95ad-49b9-b600-ee93e6b6a05d",
   "metadata": {},
   "outputs": [],
   "source": [
    "gr()\n",
    "Plots.heatmap(range(0,2*pi,50),\n",
    "    range(0,2*pi,50), log10.(DATA),\n",
    "    xlabel=\"θ values\", ylabel=\"ϕ values\",\n",
    "    title=\"Log Infidelity\")"
   ]
  },
  {
   "cell_type": "code",
   "execution_count": null,
   "id": "13dab88e-31fa-45f8-a8b9-de436399b3ce",
   "metadata": {},
   "outputs": [],
   "source": [
    "data,d_data,dd_data = parse2D(trajectory_list,2,N);"
   ]
  },
  {
   "cell_type": "code",
   "execution_count": null,
   "id": "a5c53734-77fb-4312-b2e4-20cde965930b",
   "metadata": {},
   "outputs": [],
   "source": [
    "verify2D(dd_data,n_qubits,system,Δt,n_steps,N,excitation)"
   ]
  },
  {
   "cell_type": "code",
   "execution_count": null,
   "id": "88968973-d8f0-4358-9c9c-5b0cdbfff436",
   "metadata": {},
   "outputs": [],
   "source": [
    "verify2D([[glued_trajectory_list[i][j][:dda] for j in 1:N] for i in 1:N],n_qubits,system,Δt,n_steps,N,excitation)"
   ]
  },
  {
   "cell_type": "code",
   "execution_count": null,
   "id": "cccb890a-7236-4b71-9b25-69ad4ebe584c",
   "metadata": {},
   "outputs": [],
   "source": [
    "export_csv2D([[glued_trajectory_list[i][j][:dda] for j in 1:N] for i in 1:N],n_controls,N,\"XYControlA.ipynb_accels.csv\")"
   ]
  }
 ],
 "metadata": {
  "kernelspec": {
   "display_name": "Julia 1.9.4",
   "language": "julia",
   "name": "julia-1.9"
  },
  "language_info": {
   "file_extension": ".jl",
   "mimetype": "application/julia",
   "name": "julia",
   "version": "1.9.4"
  }
 },
 "nbformat": 4,
 "nbformat_minor": 5
}
