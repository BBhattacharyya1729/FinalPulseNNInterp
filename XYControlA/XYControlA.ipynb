{
 "cells": [
  {
   "cell_type": "code",
   "execution_count": null,
   "id": "df1acad9-a1aa-4e60-bfc6-87b3d6752ec1",
   "metadata": {},
   "outputs": [],
   "source": [
    "### This file does a RZ gate (1 parameter, 1 qubit) with X,Y control\n",
    "using QuantumCollocation\n",
    "using NamedTrajectories\n",
    "using TrajectoryIndexingUtils"
   ]
  },
  {
   "cell_type": "code",
   "execution_count": null,
   "id": "cda1c223-1a43-4916-82bf-30029bc94ea3",
   "metadata": {},
   "outputs": [],
   "source": [
    "const Units = 1e9\n",
    "const MHz = 1e6 / Units\n",
    "const GHz = 1e9 / Units\n",
    "const ns = 1e-9 * Units\n",
    "const μs = 1e-6 * Units\n",
    ";"
   ]
  },
  {
   "cell_type": "code",
   "execution_count": null,
   "id": "2711d2b9-69c8-4d54-8809-11e1814267a7",
   "metadata": {},
   "outputs": [],
   "source": [
    "# Operators\n",
    "const Paulis = Dict(\n",
    "    \"I\" => Matrix{ComplexF64}([1 0; 0 1]),\n",
    "    \"X\" => Matrix{ComplexF64}([0 1; 1 0]),\n",
    "    \"Y\" => Matrix{ComplexF64}([0 im; -im 0]),\n",
    "    \"Z\" => Matrix{ComplexF64}([1 0; 0 -1]),\n",
    ")\n",
    "const a = [0 1; 0 0]\n",
    "const ad = transpose(a);\n",
    "\n",
    "H_drift = []\n",
    "\n",
    "excitation(theta, phi)   = [1 0 0 0;\n",
    "                            0 cos(theta) exp(im*phi)*sin(theta) 0; \n",
    "                            0 exp(-im*phi)*sin(theta) cos(theta) 0;\n",
    "                            0 0 0 1]\n",
    "\n",
    "function indexedOp(str, i)\n",
    "    init = [Paulis[\"I\"] for j in 1:2]\n",
    "    init[i] = Paulis[str]\n",
    "    return reduce(kron,init)\n",
    "end\n",
    "\n",
    "\n",
    "X_controls = [indexedOp(\"X\", i) for i in 1:2]\n",
    "Y_controls = [indexedOp(\"Y\", i) for i in 1:2]\n",
    "XY_controls = [(indexedOp(\"X\",1)*indexedOp(\"X\",2)+indexedOp(\"Y\",1)*indexedOp(\"Y\",2))/2]\n",
    "\n",
    "H_drives = reduce(vcat,[X_controls,Y_controls,XY_controls])\n",
    "\n",
    "system = QuantumSystem(H_drives);\n",
    "t_f = 10 * ns\n",
    "n_steps = 51\n",
    "times = range(0, t_f, n_steps)  # Alternative: collect(0:Δt:t_f)\n",
    "Δt = times[2] - times[1]\n",
    "n_controls=5\n",
    "n_qubits=2;"
   ]
  },
  {
   "cell_type": "code",
   "execution_count": null,
   "id": "787be20a-3af8-4380-82f2-ac1ba25472ef",
   "metadata": {},
   "outputs": [],
   "source": [
    "### Generate Initial Trajectories \n",
    "PICO_max_iter = 100\n",
    "\n",
    "# Shape the cost function with weights on states and controls\n",
    "Q = 1000.\n",
    "R =1e-2\n",
    "R_b=200.0\n",
    "# Add control bounds\n",
    "a_bound = 1.0\n",
    "dda_bound = 1.0\n",
    "\n",
    "ops = Options()\n",
    "ops.print_info_string = \"yes\"\n",
    "ops.recalc_y = \"yes\"\n",
    "ops.recalc_y_feas_tol = 1.0 ##down\n",
    "ops.print_level = 0\n",
    "p=UnitarySmoothPulseProblem(\n",
    "                system,\n",
    "                excitation(pi,pi),\n",
    "                n_steps,\n",
    "                Δt;\n",
    "                a_bound=a_bound,\n",
    "                dda_bound=dda_bound,\n",
    "                Q=Q,\n",
    "                R=R,\n",
    "                verbose=true,\n",
    "                hessian_approximation=true,\n",
    "                pade_order=10,\n",
    "                free_time=true,\n",
    "                timesteps_all_equal=true,\n",
    "                max_iter=PICO_max_iter,\n",
    "                ipopt_options=ops,\n",
    "                )\n",
    "min_time_problem  = UnitaryMinimumTimeProblem(p; final_fidelity=1-1e-5,max_iter=100);\n",
    "solve!(min_time_problem)"
   ]
  },
  {
   "cell_type": "code",
   "execution_count": null,
   "id": "60f165c3-4e2a-4f25-aa68-ed78aaebf4da",
   "metadata": {},
   "outputs": [],
   "source": [
    "Δt = ceil(1.2 * min_time_problem.trajectory[:Δt][1]*100)/100"
   ]
  },
  {
   "cell_type": "code",
   "execution_count": null,
   "id": "d144ff98-ce7f-4d96-bdfe-9a1100ac53d7",
   "metadata": {},
   "outputs": [],
   "source": [
    "N = 11\n",
    "trajectory_list,glued_trajectory_list = Interpolator2D(\n",
    "    excitation,\n",
    "    system,\n",
    "    n_steps,\n",
    "    N,\n",
    "    Δt;\n",
    "    Q=Q,\n",
    "    R=R,\n",
    "    R_b=R_b,\n",
    "    a_bound=a_bound,\n",
    "    dda_bound=dda_bound,\n",
    "    ipopt_options=ops,\n",
    "    max_iter=PICO_max_iter,\n",
    "    fidelity_constraint = 1e-5\n",
    ");"
   ]
  },
  {
   "cell_type": "code",
   "execution_count": null,
   "id": "06bf1de9-3f5a-4e34-9aef-a44cb60ce316",
   "metadata": {},
   "outputs": [],
   "source": [
    "DATA = sample2D(trajectory_list,Δt,n_qubits,system,50,N,excitation)\n",
    "findmax(DATA)"
   ]
  },
  {
   "cell_type": "code",
   "execution_count": null,
   "id": "6a7ba0af-7cb4-4410-bd55-22d1f9e95962",
   "metadata": {},
   "outputs": [],
   "source": [
    "using Plots\n",
    "gr()\n",
    "Plots.heatmap(range(0,2*pi,50),\n",
    "    range(0,2*pi,50), log10.(DATA),\n",
    "    xlabel=\"θ values\", ylabel=\"ϕ values\",\n",
    "    title=\"Log Infidelity\")"
   ]
  },
  {
   "cell_type": "code",
   "execution_count": null,
   "id": "a6d8e5e4-e90e-49cb-88af-e76de51e87ce",
   "metadata": {},
   "outputs": [],
   "source": [
    "DATA = simple_sample2D(glued_trajectory_list,Δt,n_qubits,system,50,N,excitation)\n",
    "findmax(DATA)"
   ]
  },
  {
   "cell_type": "code",
   "execution_count": null,
   "id": "e13e92d5-e08f-4cf8-a1da-1bce43f5aeb3",
   "metadata": {},
   "outputs": [],
   "source": [
    "gr()\n",
    "Plots.heatmap(range(0,2*pi,50),\n",
    "    range(0,2*pi,50), log10.(DATA),\n",
    "    xlabel=\"θ values\", ylabel=\"ϕ values\",\n",
    "    title=\"Log Infidelity\")"
   ]
  },
  {
   "cell_type": "code",
   "execution_count": null,
   "id": "49c2c2ba-bef3-429b-a8a7-67c48f48fe55",
   "metadata": {},
   "outputs": [],
   "source": [
    "data,d_data,dd_data = parse2D(trajectory_list,2,N);"
   ]
  },
  {
   "cell_type": "code",
   "execution_count": null,
   "id": "fa573004-d9a9-42db-ac7e-39f7685e6802",
   "metadata": {},
   "outputs": [],
   "source": [
    "verify2D(dd_data,n_qubits,system,Δt,n_steps,N,excitation)"
   ]
  },
  {
   "cell_type": "code",
   "execution_count": null,
   "id": "5982188b-3c99-4bcc-b4ae-3165776b7c70",
   "metadata": {},
   "outputs": [],
   "source": [
    "verify2D([[glued_trajectory_list[i][j][:dda] for j in 1:N] for i in 1:N],n_qubits,system,Δt,n_steps,N,excitation)"
   ]
  },
  {
   "cell_type": "code",
   "execution_count": null,
   "id": "8f6a8818-c4fe-4a46-86f1-ffb3a201bf9c",
   "metadata": {},
   "outputs": [],
   "source": [
    "export_csv2D([[glued_trajectory_list[i][j][:dda] for j in 1:N] for i in 1:N],n_controls,N,\"XYControlA.ipynb_accels.csv\")"
   ]
  }
 ],
 "metadata": {
  "kernelspec": {
   "display_name": "Julia 1.9.4",
   "language": "julia",
   "name": "julia-1.9"
  },
  "language_info": {
   "file_extension": ".jl",
   "mimetype": "application/julia",
   "name": "julia",
   "version": "1.9.4"
  }
 },
 "nbformat": 4,
 "nbformat_minor": 5
}
