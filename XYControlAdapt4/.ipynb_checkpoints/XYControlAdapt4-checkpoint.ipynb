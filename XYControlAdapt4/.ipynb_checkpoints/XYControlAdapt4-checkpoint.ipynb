{
 "cells": [
  {
   "cell_type": "code",
   "execution_count": null,
   "id": "92804aaa-da61-42d1-b9ce-6c1be73620cc",
   "metadata": {},
   "outputs": [],
   "source": [
    "### This file does a RZ gate (1 parameter, 1 qubit) with X,Y control\n",
    "using QuantumCollocation\n",
    "using NamedTrajectories\n",
    "using TrajectoryIndexingUtils"
   ]
  },
  {
   "cell_type": "code",
   "execution_count": null,
   "id": "d72140eb-8735-4d50-92bc-57544a3acf8e",
   "metadata": {},
   "outputs": [],
   "source": [
    "const Units = 1e9\n",
    "const MHz = 1e6 / Units\n",
    "const GHz = 1e9 / Units\n",
    "const ns = 1e-9 * Units\n",
    "const μs = 1e-6 * Units\n",
    ";"
   ]
  },
  {
   "cell_type": "code",
   "execution_count": null,
   "id": "27c30f79-9d71-4f50-abb7-11d60d04442e",
   "metadata": {},
   "outputs": [],
   "source": [
    "# Operators\n",
    "const Paulis = Dict(\n",
    "    \"I\" => Matrix{ComplexF64}([1 0; 0 1]),\n",
    "    \"X\" => Matrix{ComplexF64}([0 1; 1 0]),\n",
    "    \"Y\" => Matrix{ComplexF64}([0 im; -im 0]),\n",
    "    \"Z\" => Matrix{ComplexF64}([1 0; 0 -1]),\n",
    ")\n",
    "const a = [0 1; 0 0]\n",
    "const ad = transpose(a);\n",
    "\n",
    "H_drift = []\n",
    "\n",
    "\n",
    "\n",
    "function indexedOp(op, i)\n",
    "    init = [Paulis[\"I\"] for j in 1:4]\n",
    "    init[i] = op\n",
    "    return reduce(kron,init)\n",
    "end\n",
    "\n",
    "excitation(theta)   = exp(theta * ( (indexedOp(ad,1) *indexedOp(ad,2) * indexedOp(a,3) * indexedOp(a,4) ) - \n",
    "        ((indexedOp(ad,3) *indexedOp(ad,4) * indexedOp(a,1) * indexedOp(a,2)))))\n",
    "\n",
    "\n",
    "X_controls = [indexedOp(Paulis[\"X\"], i) for i in 1:2]\n",
    "Y_controls = [indexedOp(Paulis[\"Y\"], i) for i in 1:2]\n",
    "XY_controls = reduce(vcat,[[(indexedOp(Paulis[\"X\"],i)*indexedOp(Paulis[\"X\"],j)+indexedOp(Paulis[\"Y\"],i)*indexedOp(Paulis[\"Y\"],j))/2 for j in 1:4] for i in 1:4])\n",
    "\n",
    "H_drives = reduce(vcat,[X_controls,Y_controls,XY_controls])\n",
    "\n",
    "system = QuantumSystem(H_drives);\n",
    "t_f = 10 * ns\n",
    "n_steps = 51\n",
    "times = range(0, t_f, n_steps)  # Alternative: collect(0:Δt:t_f)\n",
    "Δt = times[2] - times[1]\n",
    "n_controls=length(H_drives)\n",
    "n_qubits=4;"
   ]
  },
  {
   "cell_type": "code",
   "execution_count": null,
   "id": "e2076865-c480-4ebb-bc25-22cbe7adc04c",
   "metadata": {},
   "outputs": [],
   "source": [
    "### Generate Initial Trajectories \n",
    "PICO_max_iter = 100\n",
    "\n",
    "# Shape the cost function with weights on states and controls\n",
    "Q = 1000.\n",
    "R =1e-2\n",
    "R_b=200.0\n",
    "# Add control bounds\n",
    "a_bound= 1.0\n",
    "dda_bound = 1.0\n",
    "\n",
    "ops = Options()\n",
    "ops.print_info_string = \"yes\"\n",
    "ops.recalc_y = \"yes\"\n",
    "ops.recalc_y_feas_tol = 1.0 ##down\n",
    "ops.print_level = 2\n",
    "p = UnitarySmoothPulseProblem(\n",
    "                system,\n",
    "                excitation(pi),\n",
    "                n_steps,\n",
    "                Δt;\n",
    "                a_bound=a_bound,\n",
    "                dda_bound=dda_bound,\n",
    "                Q=1000.0,\n",
    "                R=1e-2,\n",
    "                verbose=true,\n",
    "                hessian_approximation=true,\n",
    "                pade_order=10,\n",
    "                free_time=true,\n",
    "                timesteps_all_equal=true,\n",
    "                max_iter=PICO_max_iter,\n",
    "                ipopt_options=ops,\n",
    "            )\n",
    "min_time_problem  = UnitaryMinimumTimeProblem(p; final_fidelity=1-1e-5,max_iter=100)\n",
    "solve!(min_time_problem)"
   ]
  },
  {
   "cell_type": "code",
   "execution_count": null,
   "id": "5d0a826e-d976-489c-bde9-fa4df7aa00de",
   "metadata": {},
   "outputs": [],
   "source": [
    "Δt = ceil(1.2 * min_time_problem.trajectory[:Δt][1]*100)/100"
   ]
  },
  {
   "cell_type": "code",
   "execution_count": null,
   "id": "d76498ca-64fe-4fbe-8a76-5dd2c008308f",
   "metadata": {},
   "outputs": [],
   "source": [
    "N = 11\n",
    "\n",
    "\n",
    "trajectory_list,glued_trajectory_list = Interpolator1D(\n",
    "    excitation,\n",
    "    system,\n",
    "    n_steps,\n",
    "    N,\n",
    "    Δt;\n",
    "    Q=Q,\n",
    "    R=R,\n",
    "    R_b=R_b,\n",
    "    a_bound=a_bound,\n",
    "    dda_bound=dda_bound,\n",
    "    ipopt_options=ops,\n",
    "    max_iter=PICO_max_iter\n",
    ");"
   ]
  },
  {
   "cell_type": "code",
   "execution_count": null,
   "id": "e58f0fbd-77b0-4c73-b662-89af4f303fe7",
   "metadata": {},
   "outputs": [],
   "source": [
    "DATA = sample1D(trajectory_list,Δt,n_qubits,system,2500,N,excitation)\n",
    "findmax(DATA)"
   ]
  },
  {
   "cell_type": "code",
   "execution_count": null,
   "id": "8c154743-da7a-40a0-bceb-74a3a774742e",
   "metadata": {},
   "outputs": [],
   "source": [
    "using CairoMakie\n",
    "using Colors\n",
    "using Printf\n",
    "f = Figure()\n",
    "ax = Axis(f[1, 1],\n",
    "    title = \"Infidelity Log Plot\",\n",
    "    xlabel = \"θ\",\n",
    "    ylabel = \"Infidelity\"\n",
    ")\n",
    "lines!(ax, range(0,2*pi,convert(Int64,2500)), log10.(convert(Array{Float64,1},DATA)), label  = \"Linear\",color = :blue)\n",
    "\n",
    "\n",
    "f[1, 2] = Legend(f, ax, \"Infidelity Data\", framevisible = false)\n",
    "f\n",
    "     "
   ]
  },
  {
   "cell_type": "code",
   "execution_count": null,
   "id": "aa203d27-ae1f-4e86-b9ce-6214e9dedbb9",
   "metadata": {},
   "outputs": [],
   "source": [
    "DATA = simple_sample1D(glued_trajectory_list,Δt,n_qubits,system,2500,N,excitation)\n",
    "findmax(DATA)"
   ]
  },
  {
   "cell_type": "code",
   "execution_count": null,
   "id": "eabc56a9-3f2c-4f3a-83db-eda49daaf39d",
   "metadata": {},
   "outputs": [],
   "source": [
    "using CairoMakie\n",
    "using Colors\n",
    "using Printf\n",
    "f = Figure()\n",
    "ax = Axis(f[1, 1],\n",
    "    title = \"Infidelity Log Plot\",\n",
    "    xlabel = \"θ\",\n",
    "    ylabel = \"Infidelity\"\n",
    ")\n",
    "lines!(ax, range(0,2*pi,convert(Int64,2500)), log10.(convert(Array{Float64,1},DATA)), label  = \"Linear\",color = :blue)\n",
    "\n",
    "f[1, 2] = Legend(f, ax, \"Infidelity Data\", framevisible = false)\n",
    "f\n",
    "     "
   ]
  },
  {
   "cell_type": "code",
   "execution_count": null,
   "id": "4b343c75-5dcc-44f3-aa60-7683e7993202",
   "metadata": {},
   "outputs": [],
   "source": [
    "data,d_data,dd_data = parse1D(trajectory_list,n_controls,N);"
   ]
  },
  {
   "cell_type": "code",
   "execution_count": null,
   "id": "5ef1fcb9-e537-4cf8-a7b7-050f0fe12d44",
   "metadata": {},
   "outputs": [],
   "source": [
    "verify1D([t[:dda] for t in glued_trajectory_list],n_qubits,system,Δt,n_steps,N,excitation)"
   ]
  },
  {
   "cell_type": "code",
   "execution_count": null,
   "id": "633bf655-cd8b-430a-8c5f-f4abdec5b552",
   "metadata": {},
   "outputs": [],
   "source": [
    "verify1D(dd_data,n_qubits,system,Δt,n_steps,N,excitation)"
   ]
  },
  {
   "cell_type": "code",
   "execution_count": null,
   "id": "aff0bc13-bb13-425c-b0fa-72bdfecacd10",
   "metadata": {},
   "outputs": [],
   "source": [
    "export_csv1D([t[:dda] for t in glued_trajectory_list],n_controls,N,\"XYControlAdapt4_accels.csv\")"
   ]
  }
 ],
 "metadata": {
  "kernelspec": {
   "display_name": "Julia 1.9.4",
   "language": "julia",
   "name": "julia-1.9"
  },
  "language_info": {
   "file_extension": ".jl",
   "mimetype": "application/julia",
   "name": "julia",
   "version": "1.9.4"
  }
 },
 "nbformat": 4,
 "nbformat_minor": 5
}
