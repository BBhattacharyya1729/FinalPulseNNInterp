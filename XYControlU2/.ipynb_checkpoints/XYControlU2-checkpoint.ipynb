{
 "cells": [
  {
   "cell_type": "code",
   "execution_count": null,
   "id": "e0ed3c43-73da-4374-9188-f191db3c87d6",
   "metadata": {},
   "outputs": [],
   "source": [
    "### This file does a RZ gate (1 parameter, 1 qubit) with X,Y control\n",
    "using QuantumCollocation\n",
    "using NamedTrajectories\n",
    "using TrajectoryIndexingUtils"
   ]
  },
  {
   "cell_type": "code",
   "execution_count": null,
   "id": "db60b857-8360-49f1-8b9e-99bdfbd56e8f",
   "metadata": {},
   "outputs": [],
   "source": [
    "const Units = 1e9\n",
    "const MHz = 1e6 / Units\n",
    "const GHz = 1e9 / Units\n",
    "const ns = 1e-9 * Units\n",
    "const μs = 1e-6 * Units\n",
    ";"
   ]
  },
  {
   "cell_type": "code",
   "execution_count": null,
   "id": "2b840acd-608d-4c98-90ea-2287f53212fd",
   "metadata": {},
   "outputs": [],
   "source": [
    "# Operators\n",
    "const Paulis = Dict(\n",
    "    \"I\" => Matrix{ComplexF64}([1 0; 0 1]),\n",
    "    \"X\" => Matrix{ComplexF64}([0 1; 1 0]),\n",
    "    \"Y\" => Matrix{ComplexF64}([0 im; -im 0]),\n",
    "    \"Z\" => Matrix{ComplexF64}([1 0; 0 -1]),\n",
    ")\n",
    "const a = [0 1; 0 0]\n",
    "const ad = transpose(a);\n",
    "excitation(theta,phi) = 1/sqrt(2) * [1 -exp(im*phi) ; exp(im*theta) exp(im*(theta+phi)) ] \n",
    "\n",
    "\n",
    "H_drives = [\n",
    "     Paulis[\"X\"],\n",
    "     Paulis[\"Y\"]\n",
    "]\n",
    "system = QuantumSystem(H_drives);\n",
    "t_f = 10 * ns\n",
    "n_steps = 51\n",
    "times = range(0, t_f, n_steps)  # Alternative: collect(0:Δt:t_f)\n",
    "Δt = times[2] - times[1]\n",
    "n_controls=2\n",
    "n_qubits=1;"
   ]
  },
  {
   "cell_type": "code",
   "execution_count": null,
   "id": "f890cf73-d6c1-4551-8b69-9917759471ab",
   "metadata": {},
   "outputs": [],
   "source": [
    "### Generate Initial Trajectories \n",
    "PICO_max_iter = 100\n",
    "\n",
    "# Shape the cost function with weights on states and controls\n",
    "Q = 1000.\n",
    "R =1e-2\n",
    "R_b=200.0\n",
    "# Add control bounds\n",
    "a_bound = 1.0\n",
    "dda_bound = 1.0\n",
    "\n",
    "ops = Options()\n",
    "ops.print_info_string = \"yes\"\n",
    "ops.recalc_y = \"yes\"\n",
    "ops.recalc_y_feas_tol = 1.0 ##down\n",
    "ops.print_level = 0\n",
    "p=UnitarySmoothPulseProblem(\n",
    "                system,\n",
    "                excitation(pi,pi),\n",
    "                n_steps,\n",
    "                Δt;\n",
    "                a_bound=a_bound,\n",
    "                dda_bound=dda_bound,\n",
    "                Q=Q,\n",
    "                R=R,\n",
    "                verbose=true,\n",
    "                hessian_approximation=true,\n",
    "                pade_order=10,\n",
    "                free_time=true,\n",
    "                timesteps_all_equal=true,\n",
    "                max_iter=PICO_max_iter,\n",
    "                ipopt_options=ops,\n",
    "                )\n",
    "min_time_problem  = UnitaryMinimumTimeProblem(p; final_fidelity=1-1e-5,max_iter=500);\n",
    "solve!(min_time_problem)"
   ]
  },
  {
   "cell_type": "code",
   "execution_count": null,
   "id": "9e259386-3b8c-4c97-b339-f44605862b3b",
   "metadata": {},
   "outputs": [],
   "source": [
    "Δt = ceil(1.2 * min_time_problem.trajectory[:Δt][1]*100)/100"
   ]
  },
  {
   "cell_type": "code",
   "execution_count": null,
   "id": "7cc2bc9b-5acc-4ff6-a503-ab285736c780",
   "metadata": {},
   "outputs": [],
   "source": [
    "N = 11\n",
    "trajectory_list,glued_trajectory_list = Interpolator2D(\n",
    "    excitation,\n",
    "    system,\n",
    "    n_steps,\n",
    "    N,\n",
    "    Δt;\n",
    "    Q=Q,\n",
    "    R=R,\n",
    "    R_b=R_b,\n",
    "    a_bound=a_bound,\n",
    "    dda_bound=dda_bound,\n",
    "    ipopt_options=ops,\n",
    "    max_iter=PICO_max_iter,\n",
    "    fidelity_constraint = 1e-5\n",
    ");"
   ]
  },
  {
   "cell_type": "code",
   "execution_count": null,
   "id": "47279110-8c8b-4ab0-a17f-e7cf4d77c4c7",
   "metadata": {},
   "outputs": [],
   "source": [
    "DATA = sample2D(trajectory_list,Δt,n_qubits,system,50,N,excitation)\n",
    "findmax(DATA)"
   ]
  },
  {
   "cell_type": "code",
   "execution_count": null,
   "id": "be8457b3-e3b4-4468-9d30-783f933407e4",
   "metadata": {},
   "outputs": [],
   "source": [
    "using Plots\n",
    "gr()\n",
    "Plots.heatmap(range(0,2*pi,50),\n",
    "    range(0,2*pi,50), log10.(DATA),\n",
    "    xlabel=\"θ values\", ylabel=\"ϕ values\",\n",
    "    title=\"Log Infidelity\")"
   ]
  },
  {
   "cell_type": "code",
   "execution_count": null,
   "id": "b7d59aa2-472b-4b4a-8039-35104f24264c",
   "metadata": {},
   "outputs": [],
   "source": [
    "DATA = simple_sample2D(glued_trajectory_list,Δt,n_qubits,system,50,N,excitation)\n",
    "findmax(DATA)"
   ]
  },
  {
   "cell_type": "code",
   "execution_count": null,
   "id": "e4fb4a05-4fff-4c5b-a0de-43bc13d51b2a",
   "metadata": {},
   "outputs": [],
   "source": [
    "gr()\n",
    "Plots.heatmap(range(0,2*pi,50),\n",
    "    range(0,2*pi,50), log10.(DATA),\n",
    "    xlabel=\"θ values\", ylabel=\"ϕ values\",\n",
    "    title=\"Log Infidelity\")"
   ]
  },
  {
   "cell_type": "code",
   "execution_count": null,
   "id": "4aa1a159-496a-4392-b83f-12ae1e25adab",
   "metadata": {},
   "outputs": [],
   "source": [
    "data,d_data,dd_data = parse2D(trajectory_list,2,N);"
   ]
  },
  {
   "cell_type": "code",
   "execution_count": null,
   "id": "02e87789-03af-4636-8f19-dfdec3a99881",
   "metadata": {},
   "outputs": [],
   "source": [
    "verify2D(dd_data,n_qubits,system,Δt,n_steps,N,excitation)"
   ]
  },
  {
   "cell_type": "code",
   "execution_count": null,
   "id": "202a85a1-8b16-4af3-8f09-a54e794bf590",
   "metadata": {},
   "outputs": [],
   "source": [
    "verify2D([[glued_trajectory_list[i][j][:dda] for j in 1:N] for i in 1:N],n_qubits,system,Δt,n_steps,N,excitation)"
   ]
  },
  {
   "cell_type": "code",
   "execution_count": null,
   "id": "f4fb4880-76fc-4f23-8500-0c47899842b8",
   "metadata": {},
   "outputs": [],
   "source": [
    "export_csv2D([[glued_trajectory_list[i][j][:dda] for j in 1:N] for i in 1:N],n_controls,N,\"XYControlU2_accels.csv\")"
   ]
  }
 ],
 "metadata": {
  "kernelspec": {
   "display_name": "Julia 1.9.4",
   "language": "julia",
   "name": "julia-1.9"
  },
  "language_info": {
   "file_extension": ".jl",
   "mimetype": "application/julia",
   "name": "julia",
   "version": "1.9.4"
  }
 },
 "nbformat": 4,
 "nbformat_minor": 5
}
